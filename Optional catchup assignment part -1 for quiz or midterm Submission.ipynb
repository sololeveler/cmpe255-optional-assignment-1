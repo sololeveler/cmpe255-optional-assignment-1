{
  "nbformat": 4,
  "nbformat_minor": 0,
  "metadata": {
    "colab": {
      "name": "Optional catchup assignment part -1 for quiz or midterm Submission",
      "provenance": [],
      "collapsed_sections": [],
      "authorship_tag": "ABX9TyNC/PLekSCHBlmRpqKjuzZ9",
      "include_colab_link": true
    },
    "kernelspec": {
      "name": "python3",
      "display_name": "Python 3"
    },
    "language_info": {
      "name": "python"
    }
  },
  "cells": [
    {
      "cell_type": "markdown",
      "metadata": {
        "id": "view-in-github",
        "colab_type": "text"
      },
      "source": [
        "<a href=\"https://colab.research.google.com/github/sololeveler/cmpe255-optional-assignment-1/blob/master/Optional%20catchup%20assignment%20part%20-1%20for%20quiz%20or%20midterm%20Submission.ipynb\" target=\"_parent\"><img src=\"https://colab.research.google.com/assets/colab-badge.svg\" alt=\"Open In Colab\"/></a>"
      ]
    },
    {
      "cell_type": "markdown",
      "source": [
        "##Optional catchup assignment part -1 for quiz/midterm"
      ],
      "metadata": {
        "id": "211v2314_Bz3"
      }
    },
    {
      "cell_type": "code",
      "metadata": {
        "id": "RPHgabkdB0IO"
      },
      "source": [
        "#Importing Libraries\n",
        "import csv\n",
        "from itertools import combinations"
      ],
      "execution_count": 46,
      "outputs": []
    },
    {
      "cell_type": "markdown",
      "metadata": {
        "id": "KKI46JhOG03X"
      },
      "source": [
        "###Algorithm 1: Implementing Apriori Algorithm"
      ]
    },
    {
      "cell_type": "code",
      "metadata": {
        "id": "ukMzquYMHdT6"
      },
      "source": [
        "def read_data(file_loc):\n",
        "    transactions = dict()\n",
        "    with open(file_loc) as f:\n",
        "        filedata = csv.reader(f, delimiter=',')\n",
        "        count = 0\n",
        "        for line in filedata:\n",
        "            count += 1\n",
        "            transactions[count] = list(set(line))\n",
        "    return transactions"
      ],
      "execution_count": 47,
      "outputs": []
    },
    {
      "cell_type": "code",
      "source": [
        "def frequence(items_lst, transactions, check=False):\n",
        "    items_counts = dict()\n",
        "    for i in items_lst:\n",
        "        temp_i = {i}\n",
        "        if check:\n",
        "            temp_i = set(i)\n",
        "        for j in transactions.items():\n",
        "            if temp_i.issubset(set(j[1])):\n",
        "                if i in items_counts:\n",
        "                    items_counts[i] += 1\n",
        "                else:\n",
        "                    items_counts[i] = 1\n",
        "    return items_counts"
      ],
      "metadata": {
        "id": "E556fpIV-dH_"
      },
      "execution_count": 48,
      "outputs": []
    },
    {
      "cell_type": "code",
      "source": [
        "def support(items_counts, transactions):\n",
        "    support = dict()\n",
        "    total_transactions = len(trans)\n",
        "    for i in items_counts:\n",
        "        support[i] = items_counts[i]/total_transactions\n",
        "    return support  "
      ],
      "metadata": {
        "id": "Q2X_gGH7-hlV"
      },
      "execution_count": 49,
      "outputs": []
    },
    {
      "cell_type": "code",
      "source": [
        "def association_rules(items_grater_then_min_support):\n",
        "    rules = []\n",
        "    dict_rules = {}\n",
        "    for i in items_grater_then_min_support:\n",
        "        dict_rules = {}\n",
        "        if type(i) != type(str()):\n",
        "            i = list(i)\n",
        "            temp_i = i[:]\n",
        "            for j in range(len(i)):\n",
        "                k = temp_i[j]\n",
        "                del temp_i[j]\n",
        "                dict_rules[k] = temp_i\n",
        "                temp_i = i[:]\n",
        "        rules.append(dict_rules)\n",
        "    temp = []\n",
        "    for i in rules:\n",
        "        for j in i.items():\n",
        "            if type(j[1]) != type(str()):\n",
        "                temp.append({tuple(j[1])[0]: j[0]})\n",
        "            else:\n",
        "                temp.append({j[1]: j[0]})\n",
        "    rules.extend(temp)\n",
        "    return rules"
      ],
      "metadata": {
        "id": "7KCToRge-lBy"
      },
      "execution_count": 50,
      "outputs": []
    },
    {
      "cell_type": "code",
      "source": [
        "def confidence(associations, d, min_confidence):\n",
        "    ans = {}\n",
        "    for i in associations:\n",
        "        for j in i.items():\n",
        "            if type(j[0]) == type(str()):\n",
        "                left = {j[0]}\n",
        "            else:\n",
        "                left = set(j[0])\n",
        "            if type(j[1]) == type(str()):\n",
        "                right = {j[1]}\n",
        "            else:\n",
        "                right = set(j[1])\n",
        "            for k in d:\n",
        "                if type(k) != type(str()):\n",
        "                    if left.union(right) - set(k) == set():\n",
        "                        up = d[k]\n",
        "                    if len(right) == len(set(k)) and right - set(k) == set():\n",
        "                            down = d[k]\n",
        "                else:\n",
        "                    if len(right) >= len({k}):\n",
        "                        if right - {k} == set():\n",
        "                            down = d[k]\n",
        "                    elif len(right) <= len({k}):\n",
        "                        if {k} - right == set():\n",
        "                            down = d[k]\n",
        "            if up/down >= min_confidence:\n",
        "                ans[tuple(left)[0]] = right, up/down, up, down\n",
        "    print(ans)    "
      ],
      "metadata": {
        "id": "_5B-qV-j-na3"
      },
      "execution_count": 51,
      "outputs": []
    },
    {
      "cell_type": "code",
      "source": [
        "min_support = 0.01\n",
        "min_confidence = 0.7\n",
        "file_loc = 'GroceryStoreDataSet.csv'\n",
        "    \n",
        "transactionsactions = read_data(file_loc)\n",
        "number_of_transactionsactions = [len(i) for i in transactionsactions.values()]\n",
        "items_lst = set()\n",
        "\n",
        "itemcount_track = list()    \n",
        "\n",
        "for i in transactionsactions.values():\n",
        "    for j in i:\n",
        "        items_lst.add(j)\n",
        "\n",
        "store_item_lst = list(items_lst)[:]\n",
        "items_grater_then_min_support = list()\n",
        "items_counts = frequence(items_lst, transactions)\n",
        "itemcount_track.append(items_counts)\n",
        "items_grater_then_min_support.append({j[0]:j[1] for j in support(items_counts, transactions).items() if j[1]>min_support})\n",
        "\n",
        "for i in range(2, max(number_of_transactions)+1):\n",
        "    item_list = combinations(items_lst, i)\n",
        "    items_counts = frequence(item_list, transactions, check=True)\n",
        "    itemcount_track.append(items_counts)\n",
        "    if list({j[0]:j[1] for j in support(items_counts, transactions).items() if j[1]>min_support}.keys()) != []:\n",
        "        items_grater_then_min_support.append({j[0]:j[1] for j in support(items_counts, transactions).items() if j[1]>min_support})\n",
        "    \n",
        "d = {}\n",
        "{d.update(i) for i in itemcount_track}\n",
        "associations = association_rules(items_grater_then_min_support[len(items_grater_then_min_support)-1])\n",
        "associations_grater_then_confidene = confidence(associations, d, min_confidence)"
      ],
      "metadata": {
        "colab": {
          "base_uri": "https://localhost:8080/"
        },
        "id": "uqe-oDoR4lVJ",
        "outputId": "bb2e6f72-07a1-4d92-a95e-3381b01bc2a5"
      },
      "execution_count": 52,
      "outputs": [
        {
          "output_type": "stream",
          "name": "stdout",
          "text": [
            "{'TEA': ({'BREAD', 'BISCUIT'}, 1.0, 1, 1), 'BREAD': ({'MILK', 'MAGGI'}, 1.0, 1, 1), 'MAGGI': ({'MILK', 'BREAD'}, 1.0, 1, 1), 'BISCUIT': ({'CORNFLAKES', 'COCK'}, 1.0, 2, 2), 'CORNFLAKES': ({'COFFEE', 'MILK'}, 1.0, 1, 1), 'MILK': ({'CORNFLAKES', 'COFFEE'}, 1.0, 1, 1)}\n"
          ]
        }
      ]
    },
    {
      "cell_type": "markdown",
      "source": [
        ""
      ],
      "metadata": {
        "id": "tmD9wEf3-7Jf"
      }
    },
    {
      "cell_type": "code",
      "source": [
        ""
      ],
      "metadata": {
        "id": "gD4V5PNb9YI2"
      },
      "execution_count": 52,
      "outputs": []
    }
  ]
}